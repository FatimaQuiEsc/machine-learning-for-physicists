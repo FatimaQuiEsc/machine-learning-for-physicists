{
  "nbformat": 4,
  "nbformat_minor": 0,
  "metadata": {
    "colab": {
      "provenance": [],
      "authorship_tag": "ABX9TyMicO0JSWoCT0cUi9dimR2d",
      "include_colab_link": true
    },
    "kernelspec": {
      "name": "python3",
      "display_name": "Python 3"
    },
    "language_info": {
      "name": "python"
    }
  },
  "cells": [
    {
      "cell_type": "markdown",
      "metadata": {
        "id": "view-in-github",
        "colab_type": "text"
      },
      "source": [
        "<a href=\"https://colab.research.google.com/github/FatimaQuiEsc/machine-learning-for-physicists/blob/master/ML4P_lessonI.ipynb\" target=\"_parent\"><img src=\"https://colab.research.google.com/assets/colab-badge.svg\" alt=\"Open In Colab\"/></a>"
      ]
    },
    {
      "cell_type": "code",
      "execution_count": 1,
      "metadata": {
        "colab": {
          "base_uri": "https://localhost:8080/"
        },
        "id": "itXX7DSvxU6Y",
        "outputId": "35b55204-9b4a-4c59-deb7-022929a58673"
      },
      "outputs": [
        {
          "output_type": "stream",
          "name": "stdout",
          "text": [
            "256\n",
            "0\n",
            "1\n",
            "4\n",
            "9\n",
            "16\n"
          ]
        }
      ],
      "source": [
        "print(2**8)\n",
        "\n",
        "for j in range(5):\n",
        "  print(j**2)"
      ]
    },
    {
      "cell_type": "code",
      "source": [
        "from numpy import * #librery for linear algebra"
      ],
      "metadata": {
        "id": "0HgkpifQx7a7"
      },
      "execution_count": 2,
      "outputs": []
    },
    {
      "cell_type": "code",
      "source": [
        "N0=3 #input layer (capa) size\n",
        "N1=2 #output layer size\n",
        "\n",
        "w = random.uniform(low=-1, high=+1, size=(N1, N0)) #random weights: N1xN0\n",
        "b = random.uniform(low=-1, high=+1, size=N1) #biases N1 vector"
      ],
      "metadata": {
        "id": "uWY6O5gCzZmK"
      },
      "execution_count": 3,
      "outputs": []
    },
    {
      "cell_type": "code",
      "source": [
        "y_in = array([0.2, 0.4, -0.1]) #input values"
      ],
      "metadata": {
        "id": "04tLR8XP1hwb"
      },
      "execution_count": 4,
      "outputs": []
    },
    {
      "cell_type": "markdown",
      "source": [
        "Sigmoid function (logistic function)\n",
        "\n",
        "$$\\frac{\\mathrm{1} }{\\mathrm{1} + e^{-x}}$$"
      ],
      "metadata": {
        "id": "F1qCIqpGgu6n"
      }
    },
    {
      "cell_type": "code",
      "source": [
        "z = dot(w,y_in)+b #The vecctor of 'z' values\n",
        "y_out = 1/(1+exp(-z))"
      ],
      "metadata": {
        "id": "FqFC8vrwgHGc"
      },
      "execution_count": null,
      "outputs": []
    }
  ]
}